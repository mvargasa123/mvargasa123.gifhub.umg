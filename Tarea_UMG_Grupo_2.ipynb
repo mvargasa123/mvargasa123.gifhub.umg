{
 "cells": [
  {
   "cell_type": "code",
   "execution_count": null,
   "metadata": {},
   "outputs": [],
   "source": [
    "### UMG GRUPO 2 ING EN SISTEMAS ###\n",
    "\n",
    "#Esmirna Estefani Sanchez Delgado    |   1593-15-9232 \n",
    "#Edwin Jeffren Vivar Santizo         |   1593-15-9232\n",
    "#Ervin Daniel Solórzano López        |   1593-16-2813\n",
    "#Maynor Daniel Vargas Arevalo        |   1593-08-7181\n",
    "#Nery Orlando Montalvan Tuctuc       |   1593-14-1624\n",
    "\n"
   ]
  },
  {
   "cell_type": "code",
   "execution_count": 51,
   "metadata": {},
   "outputs": [
    {
     "name": "stdout",
     "output_type": "stream",
     "text": [
      "Hola a todos\n"
     ]
    }
   ],
   "source": [
    "a= \"Hola a todos\"\n",
    "\n",
    "print(a)"
   ]
  },
  {
   "cell_type": "markdown",
   "metadata": {},
   "source": [
    "VARIABLES"
   ]
  },
  {
   "cell_type": "code",
   "execution_count": 1,
   "metadata": {},
   "outputs": [
    {
     "name": "stdout",
     "output_type": "stream",
     "text": [
      "[2]\n"
     ]
    }
   ],
   "source": [
    "edad = [2]\n",
    "print(edad)"
   ]
  },
  {
   "cell_type": "code",
   "execution_count": 2,
   "metadata": {},
   "outputs": [
    {
     "name": "stdout",
     "output_type": "stream",
     "text": [
      "hola a todos el nombre es Grupo_2 y mi edad es [2]\n"
     ]
    }
   ],
   "source": [
    "nombre = \"Grupo_2\"\n",
    "\n",
    "print (f\"hola a todos el nombre es {nombre} y mi edad es {edad}\")\n",
    "\n"
   ]
  },
  {
   "cell_type": "code",
   "execution_count": 3,
   "metadata": {},
   "outputs": [
    {
     "name": "stdout",
     "output_type": "stream",
     "text": [
      "Mi edad es: 2\n"
     ]
    }
   ],
   "source": [
    "edad = 2\n",
    "print(\"Mi edad es:\",edad)\n"
   ]
  },
  {
   "cell_type": "code",
   "execution_count": 56,
   "metadata": {},
   "outputs": [
    {
     "name": "stdout",
     "output_type": "stream",
     "text": [
      "selec = from empleado\n",
      "Where sario >- 25000 and estado =it\n"
     ]
    }
   ],
   "source": [
    "salario = 25000\n",
    "dept =\"it\"\n",
    "miquery = \"\"\"selec = from empleado\n",
    "Where sario >- {} and estado ={}\"\"\".format(salario,dept)\n",
    "print (miquery)\n"
   ]
  },
  {
   "cell_type": "code",
   "execution_count": 4,
   "metadata": {},
   "outputs": [
    {
     "name": "stdout",
     "output_type": "stream",
     "text": [
      "Hola,Grupo_2, esto es python\n"
     ]
    }
   ],
   "source": [
    "mombre = input(\"Ingrese su nombre\")\n",
    "print(f\"Hola,{nombre}, esto es python\")"
   ]
  },
  {
   "cell_type": "markdown",
   "metadata": {},
   "source": [
    "STRING"
   ]
  },
  {
   "cell_type": "code",
   "execution_count": 5,
   "metadata": {},
   "outputs": [
    {
     "data": {
      "text/plain": [
       "'Grupo'"
      ]
     },
     "execution_count": 5,
     "metadata": {},
     "output_type": "execute_result"
    }
   ],
   "source": [
    "A=\"Grupo 2\"\n",
    "A[0:5]"
   ]
  },
  {
   "cell_type": "markdown",
   "metadata": {},
   "source": [
    "Control de Flujo"
   ]
  },
  {
   "cell_type": "code",
   "execution_count": 61,
   "metadata": {},
   "outputs": [
    {
     "data": {
      "text/plain": [
       "True"
      ]
     },
     "execution_count": 61,
     "metadata": {},
     "output_type": "execute_result"
    }
   ],
   "source": [
    "43 ==34\n",
    "43==43"
   ]
  },
  {
   "cell_type": "code",
   "execution_count": 62,
   "metadata": {},
   "outputs": [
    {
     "name": "stdout",
     "output_type": "stream",
     "text": [
      "El numero no es cero\n"
     ]
    }
   ],
   "source": [
    "numero = int(input(\"ingrese un numero\"))\n",
    "if(numero!=0):\n",
    "    print(\"El numero no es cero\")\n",
    "else:\n",
    "    print(\"El numero es Cero\")\n"
   ]
  },
  {
   "cell_type": "code",
   "execution_count": 21,
   "metadata": {},
   "outputs": [
    {
     "name": "stdout",
     "output_type": "stream",
     "text": [
      "el dia es domingo\n"
     ]
    }
   ],
   "source": [
    "dia = int(input(\"ingrese el numero de dia:\"))\n",
    "if(dia>-1 and dia<=7):\n",
    "    if(dia==1):\n",
    "        print(\"el dia es lunes\")\n",
    "    elif(dia==2):\n",
    "        print(\"el dia es martes\")\n",
    "    elif(dia==3):\n",
    "        print(\"el dia es miercoles\")\n",
    "    elif(dia==4):\n",
    "        print(\"el dia es jueves\")\n",
    "    elif(dia==5):\n",
    "        print(\"el dia es viernes\")\n",
    "    elif(dia==6):\n",
    "        print(\"el dia es sabado\")\n",
    "    elif(dia==7):\n",
    "        print(\"el dia es domingo\")\n",
    "    else:\n",
    "        print(\"el dia es incorrecto\")"
   ]
  },
  {
   "cell_type": "markdown",
   "metadata": {},
   "source": [
    "Listas"
   ]
  },
  {
   "cell_type": "code",
   "execution_count": 36,
   "metadata": {},
   "outputs": [],
   "source": [
    "lista = [10,20,30,40,50,60]\n",
    "# es dinamica\n",
    "# almacena diferente tipo de dato\n"
   ]
  },
  {
   "cell_type": "code",
   "execution_count": 37,
   "metadata": {},
   "outputs": [
    {
     "data": {
      "text/plain": [
       "50"
      ]
     },
     "execution_count": 37,
     "metadata": {},
     "output_type": "execute_result"
    }
   ],
   "source": [
    "lista[4]\n"
   ]
  },
  {
   "cell_type": "code",
   "execution_count": 38,
   "metadata": {},
   "outputs": [],
   "source": [
    "lista.append('data')"
   ]
  },
  {
   "cell_type": "code",
   "execution_count": 39,
   "metadata": {},
   "outputs": [],
   "source": [
    "lista.insert(3,'umg')\n"
   ]
  },
  {
   "cell_type": "markdown",
   "metadata": {},
   "source": [
    "Eminiar elentos de la lista"
   ]
  },
  {
   "cell_type": "code",
   "execution_count": 40,
   "metadata": {},
   "outputs": [],
   "source": [
    "del lista [3]\n",
    "#eliminar por posicion"
   ]
  },
  {
   "cell_type": "code",
   "execution_count": 41,
   "metadata": {},
   "outputs": [],
   "source": [
    "lista.remove('data')\n",
    "#elinimar por valor"
   ]
  },
  {
   "cell_type": "code",
   "execution_count": 44,
   "metadata": {},
   "outputs": [
    {
     "name": "stdout",
     "output_type": "stream",
     "text": [
      "horas:0 - minutos:0 - segundos: 15\n"
     ]
    }
   ],
   "source": [
    "segundos = int(input(\"ingrese los segundos:\"))\n",
    "horas = segundos // (60*60)\n",
    "segundos = segundos % (60*60)\n",
    "minutos = segundos //(60)\n",
    "segundos = segundos % (60)\n",
    "print('horas:{} - minutos:{} - segundos: {}'.format(horas,minutos,segundos))\n"
   ]
  },
  {
   "cell_type": "code",
   "execution_count": 45,
   "metadata": {},
   "outputs": [
    {
     "name": "stdout",
     "output_type": "stream",
     "text": [
      "Tienes 35 años -5 meses y -14 dias\n"
     ]
    }
   ],
   "source": [
    "from datetime import datetime\n",
    "\n",
    "dia=int(input(\"introduce el dia actual:\"))\n",
    "mes=int(input(\"Introduce el mes actual:\"))\n",
    "año=int(input(\"introduce el año actual:\"))\n",
    "\n",
    "dia_aniversario = int(input(\"introduce el dia de tu nacimiento:\"))\n",
    "mes_aniversario = int(input(\"introduce el mes de tu nacimientio:\"))\n",
    "año_aniversario = int(input(\"introduce el año de nacieminto:\"))\n",
    "\n",
    "resultado_dia = dia- dia_aniversario\n",
    "resultado_mes = mes - mes_aniversario\n",
    "resultado_año = año - año_aniversario  \n",
    "\n",
    "print(\"Tienes\", resultado_año,\"años\", resultado_mes,\"meses\",\"y\",resultado_dia, \"dias\")\n",
    "\n",
    "\n"
   ]
  },
  {
   "cell_type": "markdown",
   "metadata": {},
   "source": [
    "Comentarios "
   ]
  },
  {
   "cell_type": "code",
   "execution_count": null,
   "metadata": {},
   "outputs": [],
   "source": [
    "\n",
    "#La sintraxis de programacion es simple, facil de entener, y el estilo de codificar facilita la lectura y escritura del codigo.\n",
    "\n",
    "#Es un lenguaje multiplataforma, lo que significa que el código escrito en Python puede ejecutarse en diferentes sistemas operativos \n",
    "#sin modificaciones significativas. Esto facilita el desarrollo de aplicaciones que pueden ser utilizadas en una variedad de entornos.\n",
    "\n",
    "#Sin duda es un lenguaje de programacion ordenado me di cuenta que podemos hacer muchos calculos y en buscando informacion pude darme,\n",
    "#cuenta que es robusto y se puede hacer practicamente de todo con todas las librerias que tiene.\n",
    "\n",
    "#La platafoma de utilizar Pyton con Anaconda y gestioanrlo con VBC es muy buena, pero tambien siento que son muchos programas que se necesitan para poder operar\n",
    "#me gusta mas la plataformade VB.NET donde podemos trabajar todo en un mismo ambiente si necesitadad de tener dependencia.\n",
    "\n",
    "#Excelente curso he aprendido bastantes herramientas la cuales aplicare, esta herramiente en particular me parece interesante pero necesito estudiarla un poco mas afondo\n",
    "#para poder ponerla en practica pero considero que es una harramienta robusta.\n",
    "\n",
    "\n",
    "\n"
   ]
  }
 ],
 "metadata": {
  "kernelspec": {
   "display_name": "TareaUMG",
   "language": "python",
   "name": "python3"
  },
  "language_info": {
   "codemirror_mode": {
    "name": "ipython",
    "version": 3
   },
   "file_extension": ".py",
   "mimetype": "text/x-python",
   "name": "python",
   "nbconvert_exporter": "python",
   "pygments_lexer": "ipython3",
   "version": "3.8.18"
  }
 },
 "nbformat": 4,
 "nbformat_minor": 2
}
